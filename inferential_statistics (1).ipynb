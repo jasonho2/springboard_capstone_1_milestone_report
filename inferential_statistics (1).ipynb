{
 "cells": [
  {
   "cell_type": "code",
   "execution_count": 1,
   "metadata": {
    "collapsed": true
   },
   "outputs": [],
   "source": [
    "import pandas as pd\n",
    "import numpy as np\n",
    "import matplotlib.pyplot as plt\n",
    "import seaborn as sns\n",
    "import scipy.stats as stats"
   ]
  },
  {
   "cell_type": "code",
   "execution_count": 2,
   "metadata": {
    "collapsed": true
   },
   "outputs": [],
   "source": [
    "nba_rookie_data = pd.read_csv('C:/Users/jho/Desktop/data_science/nba_rookie_data.csv')\n",
    "\n",
    "players_yes = nba_rookie_data[nba_rookie_data['TARGET_5Yrs'] == 1]\n",
    "\n",
    "players_no = nba_rookie_data[nba_rookie_data['TARGET_5Yrs'] == 0]\n",
    "players_no = players_no[players_no['Year Drafted'] <= 2012]\n",
    "\n",
    "players_new = nba_rookie_data[nba_rookie_data['Year Drafted'] > 2012]"
   ]
  },
  {
   "cell_type": "markdown",
   "metadata": {},
   "source": [
    "I will perform inferential statistics on the two sets of players, those who ended up playing for at least five years and those who did not end up playing for five years, to determine if there are significant differences between the two groups of players.\n",
    "\n",
    "The most important stats that determine an NBA player's career longevity is player efficiency rating, minutes per game, and field goal percentage."
   ]
  },
  {
   "cell_type": "markdown",
   "metadata": {},
   "source": [
    "Null Hypothesis: There is no statistically significant difference in stats between the two groups of players.\n",
    "Alternate Hypothesis: There is a statistically significant difference in stats between the two groups of players."
   ]
  },
  {
   "cell_type": "code",
   "execution_count": 31,
   "metadata": {
    "collapsed": true
   },
   "outputs": [],
   "source": [
    "# useful functions\n",
    "\n",
    "def diff_of_means(data_1, data_2):\n",
    "    \"\"\"Difference in means of two arrays.\"\"\"\n",
    "\n",
    "    # The difference of means of data_1, data_2: diff\n",
    "    diff = np.mean(data_1) - np.mean(data_2)\n",
    "\n",
    "    return diff\n",
    "\n",
    "def perm_reps(data_1, data_2, func, size=1):\n",
    "    \"\"\"Generate multiple permutation replicates.\"\"\"\n",
    "\n",
    "    # Initialize array of replicates: perm_replicates\n",
    "    perm_replicates = np.empty(size)\n",
    "    concat_data = np.concatenate((data_1, data_2))\n",
    "\n",
    "    for i in range(size):\n",
    "        # Generate permutation sample\n",
    "        perm_sample = np.random.permutation(concat_data)\n",
    "        perm_1 = perm_sample[:len(data_1)]\n",
    "        perm_2 = perm_sample[len(data_1):]\n",
    "\n",
    "        # Compute the test statistic\n",
    "        perm_replicates[i] = abs(func(perm_1, perm_2))\n",
    "        \n",
    "    return perm_replicates\n",
    "\n",
    "def p_value(perm_replicates, difference):\n",
    "\n",
    "    p = np.sum(perm_replicates >= difference) / len(perm_replicates)\n",
    "\n",
    "    return p\n",
    "\n",
    "def standard_error(data_1, data_2):\n",
    "\n",
    "    se = (np.std(data_1)/np.sqrt(len(data_1))) + (np.std(data_2)/np.sqrt(len(data_2)))\n",
    "\n",
    "    return se\n",
    "\n",
    "def pearson_r(x,y):\n",
    "    \"\"\"Compute Pearson correlation coefficient between two arrays.\"\"\"\n",
    "    # Compute correlation matrix: corr_mat\n",
    "    corr_mat = np.corrcoef(x,y)\n",
    "\n",
    "    # Return entry [0,1]\n",
    "    return corr_mat[0,1]"
   ]
  },
  {
   "cell_type": "code",
   "execution_count": 5,
   "metadata": {},
   "outputs": [
    {
     "name": "stdout",
     "output_type": "stream",
     "text": [
      "difference of efficiency:  3.4612195121951173\n",
      "difference of minutes per game:  6.055853658536565\n",
      "difference of field goal percentage:  2.4389024390244174\n"
     ]
    }
   ],
   "source": [
    "difference_efficiency = diff_of_means(players_yes['EFF'], players_no['EFF'])\n",
    "print('difference of efficiency: ', difference_efficiency)\n",
    "\n",
    "difference_mpg = diff_of_means(players_yes['MIN'], players_no['MIN'])\n",
    "print('difference of minutes per game: ', difference_mpg)\n",
    "\n",
    "difference_fg = diff_of_means(players_yes['FG%'], players_no['FG%'])\n",
    "print('difference of field goal percentage: ', difference_fg)"
   ]
  },
  {
   "cell_type": "code",
   "execution_count": 12,
   "metadata": {},
   "outputs": [
    {
     "name": "stdout",
     "output_type": "stream",
     "text": [
      "p-value for efficiency =  0.0\n"
     ]
    }
   ],
   "source": [
    "perm_reps_eff = perm_reps(players_yes['EFF'], players_no['EFF'], diff_of_means, size=10000)\n",
    "\n",
    "diff_eff = diff_of_means(players_yes['EFF'], players_no['EFF'])\n",
    "\n",
    "p_eff = p_value(perm_reps_eff, diff_eff)\n",
    "\n",
    "print('p-value for efficiency = ', p_eff)"
   ]
  },
  {
   "cell_type": "code",
   "execution_count": 13,
   "metadata": {},
   "outputs": [
    {
     "name": "stdout",
     "output_type": "stream",
     "text": [
      "p-value for minutes per game =  0.0\n"
     ]
    }
   ],
   "source": [
    "perm_reps_minutes = perm_reps(players_yes['MIN'], players_no['MIN'], diff_of_means, size=10000)\n",
    "\n",
    "diff_minutes = diff_of_means(players_yes['MIN'], players_no['MIN'])\n",
    "\n",
    "p_minutes = p_value(perm_reps_minutes, diff_minutes)\n",
    "\n",
    "print('p-value for minutes per game = ', p_minutes)"
   ]
  },
  {
   "cell_type": "code",
   "execution_count": 14,
   "metadata": {},
   "outputs": [
    {
     "name": "stdout",
     "output_type": "stream",
     "text": [
      "p-value for field goal percentage =  0.0\n"
     ]
    }
   ],
   "source": [
    "perm_reps_fgp = perm_reps(players_yes['FG%'], players_no['FG%'], diff_of_means, size=10000)\n",
    "\n",
    "diff_fgp = diff_of_means(players_yes['FG%'], players_no['FG%'])\n",
    "\n",
    "p_fgp = p_value(perm_reps_fgp, diff_fgp)\n",
    "\n",
    "print('p-value for field goal percentage = ', p_fgp)"
   ]
  },
  {
   "cell_type": "markdown",
   "metadata": {},
   "source": [
    "Each of the p-values from the three NBA stats between the two groups of players came out to be 0, which means I can reject my null hypothesis that there is no statistically significant difference between the two groups of players.\n",
    "\n",
    "As expected, there is some statistically significant difference between the players who played for at least five years and those who did not play for five years. \n",
    "\n",
    "Below I run the same p-value calculations, but using the permutation_sample and draw_perm_reps functions at the bottom of the notebook. All resulting p-values equal 0."
   ]
  },
  {
   "cell_type": "markdown",
   "metadata": {},
   "source": [
    "Below I calculated error margin from the mean and confidence interval for each of the three stats. Based on the differences of means, the confidence interval at the 95% level is shown to indicate the range of difference for each of the stats between the two groups of players. "
   ]
  },
  {
   "cell_type": "code",
   "execution_count": 19,
   "metadata": {},
   "outputs": [
    {
     "name": "stdout",
     "output_type": "stream",
     "text": [
      "margin of error:  0.626950500676\n",
      "confidence interval:  [2.8342690115187499, 4.0881700128714842]\n"
     ]
    }
   ],
   "source": [
    "diff_eff = diff_of_means(players_yes['EFF'], players_no['EFF'])\n",
    "\n",
    "se_eff = standard_error(players_yes['EFF'], players_no['EFF'])\n",
    "\n",
    "margin_error_eff = 1.96 * se_eff\n",
    "\n",
    "confidence_interval_eff = [diff_eff - margin_error_eff, diff_eff + margin_error_eff]\n",
    "\n",
    "print('margin of error: ', margin_error_eff)\n",
    "print('confidence interval: ', confidence_interval_eff)"
   ]
  },
  {
   "cell_type": "code",
   "execution_count": 21,
   "metadata": {},
   "outputs": [
    {
     "name": "stdout",
     "output_type": "stream",
     "text": [
      "margin of error:  1.1909907187\n",
      "confidence interval:  [2.8342690115187499, 4.0881700128714842]\n"
     ]
    }
   ],
   "source": [
    "diff_minutes = diff_of_means(players_yes['MIN'], players_no['MIN'])\n",
    "\n",
    "se_minutes = standard_error(players_yes['MIN'], players_no['MIN'])\n",
    "\n",
    "margin_error_minutes = 1.96 * se_minutes\n",
    "\n",
    "confidence_interval_minutes = [diff_eff - margin_error_eff, diff_eff + margin_error_eff]\n",
    "\n",
    "print('margin of error: ', margin_error_minutes)\n",
    "print('confidence interval: ', confidence_interval_minutes)"
   ]
  },
  {
   "cell_type": "code",
   "execution_count": 23,
   "metadata": {},
   "outputs": [
    {
     "name": "stdout",
     "output_type": "stream",
     "text": [
      "margin of error:  1.01306084641\n",
      "confidence interval:  [1.4258415926171868, 3.4519632854316482]\n"
     ]
    }
   ],
   "source": [
    "diff_fgp = np.abs(diff_of_means(players_yes['FG%'], players_no['FG%']))\n",
    "\n",
    "se_fgp = standard_error(players_yes['FG%'], players_no['FG%'])\n",
    "\n",
    "margin_error_fgp = 1.96 * se_fgp\n",
    "\n",
    "confidence_interval_fgp = [diff_fgp - margin_error_fgp, diff_fgp + margin_error_fgp]\n",
    "\n",
    "print('margin of error: ', margin_error_fgp)\n",
    "print('confidence interval: ', confidence_interval_fgp)"
   ]
  },
  {
   "cell_type": "markdown",
   "metadata": {},
   "source": [
    "There is a notable difference between the two groups for minutes per game, ranging from 4.8 and 7.2 minutes out of 48. The players who played longer than five years received more playing time. \n",
    "\n",
    "I think it would be a good idea to calculate the correlation between these variable to see if that contributes to the outcome of playing at least five years."
   ]
  },
  {
   "cell_type": "code",
   "execution_count": 26,
   "metadata": {},
   "outputs": [
    {
     "name": "stdout",
     "output_type": "stream",
     "text": [
      "correlation between efficiency and minutes per game:  0.92311453278\n",
      "correlation between efficiency and field goal %:  0.334097712644\n",
      "correlation between field goal % and minutes per game:  0.132525035415\n"
     ]
    }
   ],
   "source": [
    "# players who have played at least five years.\n",
    "\n",
    "r_eff_mpg = pearson_r(players_yes['EFF'], players_yes['MIN'])\n",
    "print('correlation between efficiency and minutes per game: ', r_eff_mpg)\n",
    "\n",
    "r_eff_fg = pearson_r(players_yes['EFF'], players_yes['FG%'])\n",
    "print('correlation between efficiency and field goal %: ', r_eff_fg)\n",
    "\n",
    "r_fg_mpg = pearson_r(players_yes['FG%'], players_yes['MIN'])\n",
    "print('correlation between field goal % and minutes per game: ', r_fg_mpg)"
   ]
  },
  {
   "cell_type": "markdown",
   "metadata": {},
   "source": [
    "Minutes per game and Efficiency have a strong positive correlation. Players who have a high efficiency rating are likely playing more because they contribute more offense and defense while on the court. The correlation for efficiency and minutes per game likely contributed to the outcome of playing five years. \n",
    "\n",
    "Below I provided the correlations for players who did not play for five years. Since their stats are lower, there should still be similar correlations between the stats since they contributed to the outcome of not playing five years."
   ]
  },
  {
   "cell_type": "code",
   "execution_count": 27,
   "metadata": {},
   "outputs": [
    {
     "name": "stdout",
     "output_type": "stream",
     "text": [
      "correlation between efficiency and minutes per game:  0.90507467011\n",
      "correlation between efficiency and field goal %:  0.445937382185\n",
      "correlation between field goal % and minutes per game:  0.225143360957\n"
     ]
    }
   ],
   "source": [
    "# players who have not played for five years.\n",
    "\n",
    "r_eff_mpg = pearson_r(players_no['EFF'], players_no['MIN'])\n",
    "print('correlation between efficiency and minutes per game: ', r_eff_mpg)\n",
    "\n",
    "r_eff_fg = pearson_r(players_no['EFF'], players_no['FG%'])\n",
    "print('correlation between efficiency and field goal %: ', r_eff_fg)\n",
    "\n",
    "r_fg_mpg = pearson_r(players_no['FG%'], players_no['MIN'])\n",
    "print('correlation between field goal % and minutes per game: ', r_fg_mpg)"
   ]
  },
  {
   "cell_type": "code",
   "execution_count": 29,
   "metadata": {},
   "outputs": [
    {
     "data": {
      "image/png": "[encoded data removed]",
      "text/plain": [
       "<matplotlib.figure.Figure at 0x25bb405048>"
      ]
     },
     "metadata": {},
     "output_type": "display_data"
    }
   ],
   "source": [
    "sns.set()\n",
    "\n",
    "plt.scatter(players_yes['EFF'], players_yes['MIN'], alpha=0.5, marker='.')\n",
    "plt.xlabel('efficiency')\n",
    "plt.ylabel('minutes per game')\n",
    "plt.title('efficiency rating by minutes per game')\n",
    "\n",
    "plt.show()"
   ]
  },
  {
   "cell_type": "markdown",
   "metadata": {},
   "source": [
    "This scatterplot just visually illustrates the strong correlation between efficiency and minutes per game. \n",
    "\n",
    "These two player statistics together combine for some of the more powerful metrics when determining a players talent and durability."
   ]
  },
  {
   "cell_type": "markdown",
   "metadata": {},
   "source": [
    "Below I have included a histogram of both groups of players to visually see the frequency of players and their efficiency rating. There is a much higher concentration of players on the right of the histogram for players who have played at least five years compared to those who did not. There is a higher concentration players on the left of the efficiency spectrum who did not play for five years, which supports the statistical analysis above. "
   ]
  },
  {
   "cell_type": "code",
   "execution_count": 30,
   "metadata": {},
   "outputs": [
    {
     "data": {
      "image/png": "[encoded data removed]",
      "text/plain": [
       "<matplotlib.figure.Figure at 0x25bb40ce80>"
      ]
     },
     "metadata": {},
     "output_type": "display_data"
    }
   ],
   "source": [
    "sns.set()\n",
    "\n",
    "eff_yes = players_yes['EFF'].plot(kind='hist', normed=True, bins=26, alpha=0.9, label='eff_yes')\n",
    "eff_no = players_no['EFF'].plot(kind='hist', normed=True, bins=26, alpha=0.5, label='eff_no')\n",
    "\n",
    "plt.xlabel('efficiency')\n",
    "plt.title('frequency of efficiency')\n",
    "\n",
    "plt.show()"
   ]
  }
 ],
 "metadata": {
  "kernelspec": {
   "display_name": "Python 3",
   "language": "python",
   "name": "python3"
  },
  "language_info": {
   "codemirror_mode": {
    "name": "ipython",
    "version": 3
   },
   "file_extension": ".py",
   "mimetype": "text/x-python",
   "name": "python",
   "nbconvert_exporter": "python",
   "pygments_lexer": "ipython3",
   "version": "3.6.3"
  }
 },
 "nbformat": 4,
 "nbformat_minor": 2
}
